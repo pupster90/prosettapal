{
 "cells": [
  {
   "cell_type": "markdown",
   "metadata": {
    "collapsed": true,
    "slideshow": {
     "slide_type": "skip"
    }
   },
   "source": [
    "**<font size=\"15\" color=\"gray\">Prosetta </font>**  <font size=\"7\" color=\"magenta\"> *Plate Viewer*</font> "
   ]
  },
  {
   "cell_type": "markdown",
   "metadata": {
    "heading_collapsed": true,
    "slideshow": {
     "slide_type": "skip"
    }
   },
   "source": [
    "# Code"
   ]
  },
  {
   "cell_type": "markdown",
   "metadata": {
    "hidden": true,
    "slideshow": {
     "slide_type": "skip"
    }
   },
   "source": [
    "<font size=4, color=\"red\">**Warning : **</font>\n",
    "The stuff in the following sections is the code that creates the graph. Don't change any of this unless you really know what you are doing.\n",
    "\n",
    "If you *MUST* change the code, click the eyeball icon to view the source code."
   ]
  },
  {
   "cell_type": "markdown",
   "metadata": {
    "collapsed": true,
    "heading_collapsed": true,
    "hidden": true,
    "slideshow": {
     "slide_type": "skip"
    }
   },
   "source": [
    "## Import Packages and Data"
   ]
  },
  {
   "cell_type": "code",
   "execution_count": 1,
   "metadata": {
    "hidden": true,
    "slideshow": {
     "slide_type": "skip"
    }
   },
   "outputs": [
    {
     "name": "stdout",
     "output_type": "stream",
     "text": [
      "Populating the interactive namespace from numpy and matplotlib\n"
     ]
    }
   ],
   "source": [
    "%pylab inline\n",
    "#%matplotlib notebook"
   ]
  },
  {
   "cell_type": "code",
   "execution_count": 2,
   "metadata": {
    "collapsed": true,
    "hidden": true,
    "slideshow": {
     "slide_type": "skip"
    }
   },
   "outputs": [],
   "source": [
    "import openpyxl\n",
    "import sys\n",
    "import os\n",
    "from brewer2mpl import qualitative\n",
    "#from matplotlib import cm  #<-- this package blows, so i used brewer\n",
    "#from matplotlib.patches import Rectangle #<-- failed to get this to work"
   ]
  },
  {
   "cell_type": "code",
   "execution_count": 3,
   "metadata": {
    "collapsed": true,
    "hidden": true,
    "slideshow": {
     "slide_type": "skip"
    }
   },
   "outputs": [],
   "source": [
    "# this cell imports packages for ipywidgets\n",
    "import ipywidgets as widgets\n",
    "from IPython.display import display\n",
    "from ipywidgets import interact, interactive, fixed, interact_manual, IntSlider\n",
    "from IPython.display import display"
   ]
  },
  {
   "cell_type": "code",
   "execution_count": 4,
   "metadata": {
    "code_folding": [],
    "collapsed": true,
    "hidden": true,
    "slideshow": {
     "slide_type": "skip"
    }
   },
   "outputs": [],
   "source": [
    "# this function gets all the filenames\n",
    "def getFiles():\n",
    "    data_dir = \"./data\"\n",
    "    files = os.listdir(data_dir)\n",
    "    return [v for i,v in enumerate(files) if \".xlsx\" in v]"
   ]
  },
  {
   "cell_type": "markdown",
   "metadata": {
    "heading_collapsed": true,
    "hidden": true,
    "slideshow": {
     "slide_type": "skip"
    }
   },
   "source": [
    "## Helper Functions and Classes"
   ]
  },
  {
   "cell_type": "markdown",
   "metadata": {
    "heading_collapsed": true,
    "hidden": true,
    "slideshow": {
     "slide_type": "skip"
    }
   },
   "source": [
    "### Helper Functions"
   ]
  },
  {
   "cell_type": "code",
   "execution_count": 5,
   "metadata": {
    "code_folding": [],
    "collapsed": true,
    "hidden": true,
    "slideshow": {
     "slide_type": "skip"
    }
   },
   "outputs": [],
   "source": [
    "def getBox(min_row, max_row, min_col, max_col): #<-- refer to (row,col) of \"name\" cell\n",
    "    box = []\n",
    "    for row in ws.iter_rows( min_row=min_row, max_row=max_row, min_col=min_col, max_col=max_col ):\n",
    "        a_row = [] \n",
    "        for cell in row:\n",
    "            a_row.append(cell.value)\n",
    "        box.append( a_row )\n",
    "    return np.array(box)"
   ]
  },
  {
   "cell_type": "code",
   "execution_count": 6,
   "metadata": {
    "code_folding": [],
    "collapsed": true,
    "hidden": true,
    "slideshow": {
     "slide_type": "skip"
    }
   },
   "outputs": [],
   "source": [
    "def getDatapoints( name_pos, ): #<-- refer to (row,col) of \"name\" cell\n",
    "    row,col = name_pos[0], name_pos[1]\n",
    "    return getBox(min_row=row-9, max_row=row-6, min_col=col-1, max_col=col+1)\n",
    "\n",
    "def getRatios( name_pos ): #<-- refer to (row,col) of \"name\" cell\n",
    "    row,col = name_pos[0], name_pos[1]\n",
    "    ratios_raw =  getBox(min_row=row, max_row=row+3, min_col=col-1, max_col=col-1).flatten()\n",
    "    \n",
    "    # If any of the raw ratios are empty we set it's value to the corresponding global ratio\n",
    "    ratios_final = []\n",
    "    for i in range(len(ratios_raw)):\n",
    "        if ratios_raw[i] == None:\n",
    "            ratios_final.append( ratios[i] ) #<-- ratios is a global variable\n",
    "        else: \n",
    "            ratios_final.append( ratios_raw[i] )\n",
    "    return np.array( ratios_final )\n",
    "\n",
    "\n",
    "\n",
    "def getControls(row=6,col=11):   #<-- refer row,cell of upper left corner of control box\n",
    "    c1 = getBox(min_row=row, max_row=row+1, min_col=col, max_col=col+2).flatten()\n",
    "    c2 = getBox(min_row=row+2, max_row=row+2, min_col=col, max_col=col+2).flatten()\n",
    "    c3 = getBox(min_row=row+3, max_row=row+3, min_col=col, max_col=col+2).flatten()\n",
    "    return [c1,c2,c3]"
   ]
  },
  {
   "cell_type": "markdown",
   "metadata": {
    "heading_collapsed": true,
    "hidden": true,
    "slideshow": {
     "slide_type": "skip"
    }
   },
   "source": [
    "### Helper Classes"
   ]
  },
  {
   "cell_type": "markdown",
   "metadata": {
    "hidden": true,
    "slideshow": {
     "slide_type": "skip"
    }
   },
   "source": [
    "Equation used to modify datapoints in data fixed:\n",
    "$$\\frac{\\text{values}-\\text{mean}(c_{3})}{\\text{fixed_mean}(c_{1})}\\times100$$"
   ]
  },
  {
   "cell_type": "code",
   "execution_count": 7,
   "metadata": {
    "collapsed": true,
    "hidden": true,
    "slideshow": {
     "slide_type": "skip"
    }
   },
   "outputs": [],
   "source": [
    "class Compound:\n",
    "    def __init__(self, name_pos, controls ):\n",
    "        self.name_pos = name_pos\n",
    "        \n",
    "        self.name   = str( ws.cell(row=name_pos[0], column=name_pos[1]).value)\n",
    "        self.data   = getDatapoints(name_pos)\n",
    "        self.ratios = getRatios( name_pos)\n",
    "        \n",
    "        # we now order data according to concentrations \n",
    "        idx = np.argsort( self.ratios )\n",
    "        self.data   = self.data[  idx]\n",
    "        self.ratios = self.ratios[idx]\n",
    "        \n",
    "        self.data_fixed = (self.data - controls.means[2]) / controls.fixed_means[0] * 100\n",
    "        self.means = self.data_fixed.mean( axis=1 )\n",
    "        self.sds = self.data_fixed.std( axis=1,ddof=1 )"
   ]
  },
  {
   "cell_type": "code",
   "execution_count": 8,
   "metadata": {
    "collapsed": true,
    "hidden": true,
    "slideshow": {
     "slide_type": "skip"
    }
   },
   "outputs": [],
   "source": [
    "class Controls:\n",
    "    def __init__(self, row=6,col=11):\n",
    "        c1 = getBox(min_row=row, max_row=row+1, min_col=col, max_col=col+2).flatten()\n",
    "        c2 = getBox(min_row=row+2, max_row=row+2, min_col=col, max_col=col+2).flatten()\n",
    "        c3 = getBox(min_row=row+3, max_row=row+3, min_col=col, max_col=col+2).flatten()\n",
    "\n",
    "        self.data  = [c1,c2,c3]\n",
    "        self.means = np.array([ x.mean() for x in self.data ]) \n",
    "        self.sds   = np.array([ x.std(ddof=1) for x in self.data ]) \n",
    "        \n",
    "        self.fixed_means = self.means - self.means[2]"
   ]
  },
  {
   "cell_type": "markdown",
   "metadata": {
    "heading_collapsed": true,
    "hidden": true,
    "slideshow": {
     "slide_type": "skip"
    }
   },
   "source": [
    "### The Mother Class"
   ]
  },
  {
   "cell_type": "code",
   "execution_count": 9,
   "metadata": {
    "collapsed": true,
    "hidden": true,
    "slideshow": {
     "slide_type": "skip"
    }
   },
   "outputs": [],
   "source": [
    "class Plate:\n",
    "        \n",
    "    def __init__(self, filename):\n",
    "        # we make hte worksheet and workbook global so that the Complound and Controls classes can access them\n",
    "        global ws\n",
    "        global wb\n",
    "        self.filename = filename\n",
    "        wb = openpyxl.load_workbook(\"data/\" + filename )   #<-- open excel workbook\n",
    "        ws = wb.get_sheet_by_name(\"Sheet1\")                #<-- focus in on first sheet\n",
    "        \n",
    "        # This allows the Compound class to grab default ratios non are provided\n",
    "        global ratios\n",
    "        ratios= getRatios( (11,3) )\n",
    "        \n",
    "        # Make controls object\n",
    "        self.temp = int( ws[\"A2\"].value)  \n",
    "        self.controls = Controls()\n",
    "        \n",
    "        # Make compounds objects\n",
    "        name_spots = [(11,3),(15,3),(11,6),(15,6),(11,9),(15,9),(11,12)]  #<- hard code where to look for names\n",
    "        self.compounds =[]\n",
    "        for name_pos in name_spots:\n",
    "            self.compounds.append( Compound(name_pos, self.controls) )\n",
    "\n",
    "            \n",
    "            \n",
    "    # this code does the plotting\n",
    "    def makePlot(self):\n",
    "        plt.rcParams[\"figure.figsize\"]=[14,7]\n",
    "\n",
    "        n_groups = len(self.compounds)\n",
    "        index = np.arange(0,n_groups)\n",
    "        bar_width = 0.22\n",
    "\n",
    "        opacity, error_config = 0.7, {'ecolor': '0.2'}\n",
    "        colors = qualitative.Dark2[4].mpl_colors #colors  = [\"g\",\"m\",\"y\",\"b\"]\n",
    "        \n",
    "        for i in range(4):\n",
    "            plt.bar(index+bar_width*i,    #<-- this creates all the bars of one color\n",
    "                    [x.means[i] for x in self.compounds], #<-- the height of the bar, \n",
    "                    bar_width,\n",
    "                    alpha=opacity,\n",
    "                    color=colors[i],\n",
    "                    yerr=[x.sds[i] for x in self.compounds],  #<-- the SD of the bar\n",
    "                    error_kw=error_config)\n",
    "\n",
    "            for j in index:   #<-- this creates the bars sub labels\n",
    "                plt.text( j+bar_width*i-.07, -3.5, self.compounds[j].ratios[i] )\n",
    "\n",
    "\n",
    "\n",
    "        plt.title( self.filename[:-5], fontsize=24)\n",
    "        plt.xticks(index + 1.5*bar_width/2+.2 , [\"\\n\"+x.name for x in self.compounds] ,  fontsize=12 )\n",
    "\n",
    "        # add final bar indicating control\n",
    "        plt.bar([-.3], 100, width=.2) \n",
    "        #plt.Rectangle([0,0],100,.2, facecolor=\"b\")\n",
    "        plt.text( -.35, -3.5, \"D\" )\n",
    "\n",
    "        plt.grid(True, axis=\"y\", alpha=.3)\n",
    "        plt.tight_layout()\n",
    "        plt.legend()   #<-- this is not for legen, it just removes some awkward printout before graph \n",
    "        plt.show()"
   ]
  },
  {
   "cell_type": "markdown",
   "metadata": {
    "slideshow": {
     "slide_type": "skip"
    }
   },
   "source": [
    "# View Plates"
   ]
  },
  {
   "cell_type": "markdown",
   "metadata": {
    "slideshow": {
     "slide_type": "skip"
    }
   },
   "source": [
    "Use the tools below to look at the plot for any of the plates whose excel file has been uploaded to the [data file](http://70.95.166.175:8888/tree/Yemi/data) . Click the icon at the top of the screen that looks like a bar chart to enter <font color=\"blue\">fullscreen mode</font>. <font color=\"gray\">(the button is right underneath \"help\")</font>\n",
    "\n",
    "Inside the [data file](http://70.95.166.175:8888/tree/Yemi/data), <font color=\"green\">Template.xlsx</font> is an example you can download to see how you should format your data. To view new files added to the [data file](http://70.95.166.175:8888/tree/Yemi/data), **update the program** by clicking on the cell below and then pressing **`shift+enter`**."
   ]
  },
  {
   "cell_type": "code",
   "execution_count": 10,
   "metadata": {
    "code_folding": [
     1
    ],
    "slideshow": {
     "slide_type": "slide"
    }
   },
   "outputs": [
    {
     "data": {
      "application/vnd.jupyter.widget-view+json": {
       "model_id": "470672bc3c2f42ba911b9209ea74ddf2",
       "version_major": 2,
       "version_minor": 0
      },
      "text/plain": [
       "A Jupyter Widget"
      ]
     },
     "metadata": {},
     "output_type": "display_data"
    }
   ],
   "source": [
    "@interact(filename= getFiles() )\n",
    "def getPlot( filename ):\n",
    "    plate = Plate(filename)\n",
    "    plate.makePlot()"
   ]
  },
  {
   "cell_type": "code",
   "execution_count": null,
   "metadata": {
    "collapsed": true,
    "slideshow": {
     "slide_type": "skip"
    }
   },
   "outputs": [],
   "source": [
    "\n",
    "\n",
    "\n",
    "\n",
    "\n",
    "\n"
   ]
  }
 ],
 "metadata": {
  "hide_input": false,
  "kernelspec": {
   "display_name": "Python 3",
   "language": "python",
   "name": "python3"
  },
  "language_info": {
   "codemirror_mode": {
    "name": "ipython",
    "version": 3
   },
   "file_extension": ".py",
   "mimetype": "text/x-python",
   "name": "python",
   "nbconvert_exporter": "python",
   "pygments_lexer": "ipython3",
   "version": "3.6.3"
  },
  "toc": {
   "colors": {
    "hover_highlight": "#DAA520",
    "navigate_num": "#000000",
    "navigate_text": "#333333",
    "running_highlight": "#FF0000",
    "selected_highlight": "#FFD700",
    "sidebar_border": "#EEEEEE",
    "wrapper_background": "#FFFFFF"
   },
   "moveMenuLeft": true,
   "nav_menu": {
    "height": "48px",
    "width": "252px"
   },
   "navigate_menu": true,
   "number_sections": true,
   "sideBar": true,
   "threshold": 4,
   "toc_cell": false,
   "toc_section_display": "block",
   "toc_window_display": false,
   "widenNotebook": false
  }
 },
 "nbformat": 4,
 "nbformat_minor": 2
}
